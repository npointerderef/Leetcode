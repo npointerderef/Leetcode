{
 "cells": [
  {
   "cell_type": "markdown",
   "id": "6620ce68-a757-4328-a098-1344cb35a8a9",
   "metadata": {},
   "source": [
    "Question -> https://leetcode.com/problems/two-sum/description/"
   ]
  },
  {
   "cell_type": "code",
   "execution_count": null,
   "id": "97428b13-7bde-4717-b815-23ca0e6da3c9",
   "metadata": {},
   "outputs": [],
   "source": [
    "Sample Test Case -> \n",
    "\n",
    "Input: nums = [2,7,11,15], target = 9\n",
    "Output: [0,1]\n",
    "Explanation: Because nums[0] + nums[1] == 9, we return [0, 1]."
   ]
  },
  {
   "cell_type": "code",
   "execution_count": 5,
   "id": "fd54e3fb-79bf-4ac7-8165-5da42f904a4b",
   "metadata": {},
   "outputs": [],
   "source": [
    "# Naive Approach\n",
    "# Time Complexity - O(n^2)\n",
    "\n",
    "from typing import List\n",
    "\n",
    "class Solution:\n",
    "    def twoSum(self, nums: List[int], target: int) -> List[int]:\n",
    "        result = []\n",
    "        for i in range(len(nums)-1):\n",
    "            for j in range(i+1, len(nums)):\n",
    "                if nums[i] + nums[j] == target:\n",
    "                    result.append(i)\n",
    "                    result.append(j)\n",
    "        return result"
   ]
  },
  {
   "cell_type": "code",
   "execution_count": 7,
   "id": "9f8c48b6-1f62-42e8-8017-6011c67ad26f",
   "metadata": {},
   "outputs": [
    {
     "name": "stdout",
     "output_type": "stream",
     "text": [
      "[0, 1]\n",
      "[1, 2]\n"
     ]
    }
   ],
   "source": [
    "if __name__ == \"__main__\":\n",
    "    # Input 1\n",
    "    nums = [2,7,11,15]\n",
    "    target = 9\n",
    "\n",
    "    # Input 2\n",
    "    nums2 = [3,2,4]\n",
    "    target2 = 6\n",
    "    \n",
    "    s = Solution()\n",
    "    print(s.twoSum(nums, target))\n",
    "    print(s.twoSum(nums2, target2))"
   ]
  },
  {
   "cell_type": "code",
   "execution_count": null,
   "id": "e53973ce-f558-4568-a901-6373a42af7fd",
   "metadata": {},
   "outputs": [],
   "source": []
  }
 ],
 "metadata": {
  "kernelspec": {
   "display_name": "Python 3 (ipykernel)",
   "language": "python",
   "name": "python3"
  },
  "language_info": {
   "codemirror_mode": {
    "name": "ipython",
    "version": 3
   },
   "file_extension": ".py",
   "mimetype": "text/x-python",
   "name": "python",
   "nbconvert_exporter": "python",
   "pygments_lexer": "ipython3",
   "version": "3.12.4"
  }
 },
 "nbformat": 4,
 "nbformat_minor": 5
}
