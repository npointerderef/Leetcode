{
 "cells": [
  {
   "cell_type": "markdown",
   "id": "c9815724-606b-4caa-924e-1815867488db",
   "metadata": {},
   "source": [
    "Question -> https://leetcode.com/problems/valid-parentheses/description/"
   ]
  },
  {
   "cell_type": "code",
   "execution_count": 13,
   "id": "3303a82e-7629-48bb-b763-47bd96fb9432",
   "metadata": {},
   "outputs": [],
   "source": [
    "# Naive Solution \n",
    "# Time Complexity -> O(N) where N is the length of the input string\n",
    "\n",
    "class Solution:\n",
    "    def getCorrespondingParam(self, paran) -> str:\n",
    "        paranMap = {\n",
    "            '}': '{',\n",
    "            ']': '[',\n",
    "            ')': '('\n",
    "        }\n",
    "\n",
    "        return paranMap[paran]\n",
    "        \n",
    "    def isValid(self, s: str) -> bool:\n",
    "        stack = []\n",
    "        for char in s:\n",
    "            if char in ['(','[','{']:\n",
    "                stack.append(char)\n",
    "            else:\n",
    "                if len(stack) < 1 or self.getCorrespondingParam(char) != stack[-1]:\n",
    "                    return False\n",
    "                else:\n",
    "                    # pop from the stack\n",
    "                    stack.pop()\n",
    "                     \n",
    "        return len(stack) == 0"
   ]
  },
  {
   "cell_type": "code",
   "execution_count": 14,
   "id": "7eac9123-18b3-4cd6-87b9-4f1d1ff6b023",
   "metadata": {},
   "outputs": [
    {
     "name": "stdout",
     "output_type": "stream",
     "text": [
      "All test cases completed executing\n"
     ]
    }
   ],
   "source": [
    "if __name__ == \"__main__\":\n",
    "    s = Solution()\n",
    "\n",
    "    inputs = [\"(())\", \"()[]{}\", \"(]\"]\n",
    "    expected_outputs = [True, True, False]\n",
    "\n",
    "    zipped_list = list(zip(inputs, expected_outputs))\n",
    "    for item in zipped_list:\n",
    "        if s.isValid(item[0]) != item[1]:\n",
    "            printf(\"Input -> %s | Output -> %s | Expected -> %s\", item[0], s.isValid(item[0]), item[1])\n",
    "        \n",
    "    print(\"All test cases completed executing\")\n",
    "\n",
    "    "
   ]
  },
  {
   "cell_type": "code",
   "execution_count": null,
   "id": "354734bb-f20b-4007-86cb-155928bc26af",
   "metadata": {},
   "outputs": [],
   "source": []
  }
 ],
 "metadata": {
  "kernelspec": {
   "display_name": "Python 3 (ipykernel)",
   "language": "python",
   "name": "python3"
  },
  "language_info": {
   "codemirror_mode": {
    "name": "ipython",
    "version": 3
   },
   "file_extension": ".py",
   "mimetype": "text/x-python",
   "name": "python",
   "nbconvert_exporter": "python",
   "pygments_lexer": "ipython3",
   "version": "3.12.4"
  }
 },
 "nbformat": 4,
 "nbformat_minor": 5
}
