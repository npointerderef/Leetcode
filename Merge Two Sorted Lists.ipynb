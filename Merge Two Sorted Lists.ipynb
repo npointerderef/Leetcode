{
 "cells": [
  {
   "cell_type": "markdown",
   "id": "a8e8cd93-9504-43ad-91c5-f63cec81c029",
   "metadata": {},
   "source": [
    "Question -> https://leetcode.com/problems/merge-two-sorted-lists/"
   ]
  },
  {
   "cell_type": "code",
   "execution_count": 11,
   "id": "f7836173-8490-4838-b527-0e4bef54777b",
   "metadata": {},
   "outputs": [],
   "source": [
    "# Definition for singly-linked list.\n",
    "class ListNode:\n",
    "    def __init__(self, val=0, next=None):\n",
    "        self.val = val\n",
    "        self.next = next\n",
    "\n",
    "    def print_list(self):\n",
    "        current = self\n",
    "        while current:\n",
    "            print(current.val, end=\" \")\n",
    "            current = current.next\n",
    "        print()"
   ]
  },
  {
   "cell_type": "code",
   "execution_count": 12,
   "id": "6db0db79-91cb-4045-811b-63c2be72eedd",
   "metadata": {},
   "outputs": [],
   "source": [
    "\n",
    "# Time Complexity -> O(N)\n",
    "from typing import Optional\n",
    "class Solution:\n",
    "    def mergeTwoLists(self, list1: Optional[ListNode], list2: Optional[ListNode]) -> Optional[ListNode]:\n",
    "        head = ListNode(-1)\n",
    "        temp = head\n",
    "        while list1 and list2:\n",
    "            if list1.val <= list2.val:\n",
    "                temp.next = list1\n",
    "                list1 = list1.next\n",
    "                temp = temp.next\n",
    "            else:\n",
    "                temp.next = list2\n",
    "                list2 = list2.next\n",
    "                temp = temp.next\n",
    "\n",
    "        # If any list is pending\n",
    "        if list1:\n",
    "            temp.next = list1\n",
    "        if list2:\n",
    "            temp.next = list2\n",
    "        return head.next"
   ]
  },
  {
   "cell_type": "code",
   "execution_count": 13,
   "id": "8cf4bb58-1727-46bb-a1fd-68c30f2d89be",
   "metadata": {},
   "outputs": [
    {
     "name": "stdout",
     "output_type": "stream",
     "text": [
      "1 1 2 3 4 4 \n"
     ]
    }
   ],
   "source": [
    "if __name__ == \"__main__\":\n",
    "    l = ListNode(1)\n",
    "    l.next = ListNode(2)\n",
    "    l.next.next = ListNode(4)\n",
    "\n",
    "    m = ListNode(1)\n",
    "    m.next = ListNode(3)\n",
    "    m.next.next = ListNode(4)\n",
    "\n",
    "    s = Solution()\n",
    "    merged_list = s.mergeTwoLists(l, m)\n",
    "    merged_list.print_list() "
   ]
  },
  {
   "cell_type": "code",
   "execution_count": null,
   "id": "6bb29af1-5233-46d3-bef0-a9402ed26f0a",
   "metadata": {},
   "outputs": [],
   "source": []
  }
 ],
 "metadata": {
  "kernelspec": {
   "display_name": "Python 3 (ipykernel)",
   "language": "python",
   "name": "python3"
  },
  "language_info": {
   "codemirror_mode": {
    "name": "ipython",
    "version": 3
   },
   "file_extension": ".py",
   "mimetype": "text/x-python",
   "name": "python",
   "nbconvert_exporter": "python",
   "pygments_lexer": "ipython3",
   "version": "3.12.4"
  }
 },
 "nbformat": 4,
 "nbformat_minor": 5
}
